{
  "nbformat": 4,
  "nbformat_minor": 0,
  "metadata": {
    "colab": {
      "name": "PythonUSGSscraper_Project.ipynb",
      "provenance": [],
      "collapsed_sections": [
        "XZfDM-GIPHke",
        "FcnmCVrHRPRS",
        "D-U56LbCRhpU",
        "BPcWwux3RsBx",
        "TcNI15ot9rXW"
      ],
      "toc_visible": true
    },
    "kernelspec": {
      "name": "python3",
      "display_name": "Python 3"
    }
  },
  "cells": [
    {
      "cell_type": "markdown",
      "metadata": {
        "id": "jQGSjVndM325",
        "colab_type": "text"
      },
      "source": [
        "# USGS Earthquake Scraper Introduction\n",
        "In this project, you will create a 'web scraper' to access and retrieve real-time data from the US Geological Service (USGS) reflecting the latest active earthquakes around the world which are equal or above a user input magnitude.\n",
        "\n",
        "The data is in JSON format so you'll need to convert the output into a user-readable (friendly) format.\n",
        "\n",
        "The feed is from the USGS database here:  https://earthquake.usgs.gov/earthquakes/feed/.  You should become familiar with this site.\n",
        "\n",
        "The format of the feed summary is here: https://earthquake.usgs.gov/earthquakes/feed/v1.0/geojson.php.  You should become familiar with the fields for the JSON data.\n",
        "\n",
        "\n",
        "\n"
      ]
    },
    {
      "cell_type": "markdown",
      "metadata": {
        "id": "XZfDM-GIPHke",
        "colab_type": "text"
      },
      "source": [
        "# Part 1a:  Setup the environment and script and prompt the user for input.\n",
        "Setup the script imports and prompt the user for the magnitude from which the USGS data will be accessed.  That is, any earthquake greater than or equal to the input magnitude will be retrieved from the database.  \n",
        "You'll need to import the urllib.request library to get to the web site.\n",
        "You also can input the json library to utilize the functions in that library.\n",
        "Check out both API's for reference.\n"
      ]
    },
    {
      "cell_type": "code",
      "metadata": {
        "id": "j2VIRv4i8hs3",
        "colab_type": "code",
        "colab": {
          "base_uri": "https://localhost:8080/",
          "height": 34
        },
        "outputId": "ff21f484-ca27-43ac-a916-d4dd1a19525c"
      },
      "source": [
        "#Import the urllib.request and json libraries\n",
        "\n",
        "####Your code here....\n",
        "\n",
        "#Prompt the user to input a magnitude parameter of type floating point.  \n",
        "#Limit the range that user can input to realistic magnitudes (check the magnitude entered and if it doesn't fall within a range, print out a message and prompt again.)\n",
        "#Provide a prompt to the user to end the program or input another magnitude number (this code can be in a later cell).\n",
        "\n",
        "####Your code here....\n"
      ],
      "execution_count": null,
      "outputs": [
        {
          "output_type": "stream",
          "text": [
            "Enter a magnitude input3.5\n"
          ],
          "name": "stdout"
        }
      ]
    },
    {
      "cell_type": "markdown",
      "metadata": {
        "id": "FcnmCVrHRPRS",
        "colab_type": "text"
      },
      "source": [
        "# Part 1b:  Write the printResults function.  \n",
        "In this function, you should print the output of the data you retrieved from the site.    \n",
        "See the code comments for guided instruction.\n",
        "\n"
      ]
    },
    {
      "cell_type": "code",
      "metadata": {
        "id": "fht5aB2x9BdX",
        "colab_type": "code",
        "colab": {}
      },
      "source": [
        "#Function printResults(data)\n",
        "#In Python 3.x we need to explicitly decode the response to a string \n",
        "#i.e. data is output from data.decode(\"utf-8\") \n",
        "\n",
        "def printResults(data):\n",
        "\n",
        "  # 1.  Use the json \"loads\" api  to load the string data into a dictionary\n",
        "####Your code here....\n",
        "  \n",
        "  # 2.  Access the contents of the JSON data\n",
        "  #     and print out the metadata title\n",
        "####Your code here....\n",
        "  \n",
        "  #3.  Output the number of events, plus the magnitude and each event name  \n",
        "####Your code here....\n",
        "  \n",
        "  #4.  For each event, print the place where it occurred\n",
        "####Your code here....\n",
        "\n",
        "  #5 Print the events that only have a magnitude greater than the user input \n",
        "####Your code here....\n",
        "\n",
        "      \n"
      ],
      "execution_count": null,
      "outputs": []
    },
    {
      "cell_type": "markdown",
      "metadata": {
        "id": "D-U56LbCRhpU",
        "colab_type": "text"
      },
      "source": [
        "# Part 1c:  Write the runner\n",
        "In this code (either main or in a function), you should setup the URL from the USGS site, open the URL and read the data, call the printResults function.\n",
        "http://earthquake.usgs.gov/earthquakes/feed/v1.0/summary/2.5_day.geojson  \n",
        "See the code comments for guided instruction.  \n",
        "\n"
      ]
    },
    {
      "cell_type": "code",
      "metadata": {
        "id": "QC8z_ZJOBRM-",
        "colab_type": "code",
        "colab": {}
      },
      "source": [
        "# Define a variable to hold the source URL (see the notes for the URL)\n",
        "# This feed lists all earthquakes for the last day larger than Mag 2.5 (this is your minimum input)\n",
        "####Your code here....\n",
        "\n",
        "  \n",
        "# Open the URL and read the data\n",
        "# See urllib.request.urlopen API\n",
        "####Your code here....\n",
        "\n",
        "\n",
        "# Print the HTTP status code of the response (200 is a valid response)\n",
        "# See urllib.request.urlopen API\n",
        "####Your code here....\n",
        "\n",
        "\n",
        "# If the HTTP status code of the response is valid then read the data,\n",
        "#    convert to a string (use .decode(\"utf-8\")), \n",
        "#    and print the results\n",
        "# Make sure your code handles an error condition (i.e. non-valid status code) \n",
        "#    and print out the error code in that case.\n",
        "####Your code here....\n"
      ],
      "execution_count": null,
      "outputs": []
    },
    {
      "cell_type": "markdown",
      "metadata": {
        "id": "BPcWwux3RsBx",
        "colab_type": "text"
      },
      "source": [
        "# Part 2:  Output data to spreadsheet\n",
        "Convert output to CSV format.  \n",
        "Include at least 5 of the fields retrieved from the database.  \n",
        "Include exception handling in your file IO processing.  "
      ]
    },
    {
      "cell_type": "code",
      "metadata": {
        "id": "siamBbHDEY1u",
        "colab_type": "code",
        "colab": {}
      },
      "source": [
        "####Your code here....\n"
      ],
      "execution_count": null,
      "outputs": []
    },
    {
      "cell_type": "markdown",
      "metadata": {
        "id": "TcNI15ot9rXW",
        "colab_type": "text"
      },
      "source": [
        "# Part 3:  Search on another field\n",
        "Change your printResults(data, searchField) function and runner to search the database for a different field (your choice) and print out the results based on that field.  \n",
        "For example you might want to search for all the earthquakes that occurred within a particular latitude and longitude bounding box.  \n",
        "See https://earthquake.usgs.gov/earthquakes/feed/v1.0/geojson.php for the list of parameters that can be retrieved."
      ]
    },
    {
      "cell_type": "code",
      "metadata": {
        "id": "tZAlXKXkJ1Hh",
        "colab_type": "code",
        "colab": {}
      },
      "source": [
        "####Your code here....\n"
      ],
      "execution_count": null,
      "outputs": []
    }
  ]
}